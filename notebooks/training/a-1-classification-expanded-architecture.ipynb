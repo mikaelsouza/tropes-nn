{
 "cells": [
  {
   "cell_type": "code",
   "execution_count": 1,
   "metadata": {},
   "outputs": [
    {
     "name": "stderr",
     "output_type": "stream",
     "text": [
      "Using TensorFlow backend.\n"
     ]
    }
   ],
   "source": [
    "import pandas as pd\n",
    "import numpy as np\n",
    "import matplotlib.pyplot as plt\n",
    "import keras\n",
    "import sklearn.model_selection as ms"
   ]
  },
  {
   "cell_type": "code",
   "execution_count": 2,
   "metadata": {},
   "outputs": [],
   "source": [
    "movie_data = pd.read_csv('../../data/processed/normalized-movie-data.csv')\n",
    "trope_data = pd.read_csv('../../data/processed/trope-data.csv')"
   ]
  },
  {
   "cell_type": "code",
   "execution_count": 3,
   "metadata": {},
   "outputs": [],
   "source": [
    "movie_data = movie_data.sort_values('id')\n",
    "trope_data = trope_data.sort_values('id')"
   ]
  },
  {
   "cell_type": "code",
   "execution_count": 4,
   "metadata": {},
   "outputs": [
    {
     "data": {
      "text/html": [
       "<div>\n",
       "<style scoped>\n",
       "    .dataframe tbody tr th:only-of-type {\n",
       "        vertical-align: middle;\n",
       "    }\n",
       "\n",
       "    .dataframe tbody tr th {\n",
       "        vertical-align: top;\n",
       "    }\n",
       "\n",
       "    .dataframe thead th {\n",
       "        text-align: right;\n",
       "    }\n",
       "</style>\n",
       "<table border=\"1\" class=\"dataframe\">\n",
       "  <thead>\n",
       "    <tr style=\"text-align: right;\">\n",
       "      <th></th>\n",
       "      <th>revenue</th>\n",
       "      <th>class</th>\n",
       "      <th>id</th>\n",
       "      <th>budget</th>\n",
       "      <th>starpower</th>\n",
       "      <th>certification</th>\n",
       "      <th>year</th>\n",
       "      <th>Action</th>\n",
       "      <th>Adventure</th>\n",
       "      <th>Animation</th>\n",
       "      <th>...</th>\n",
       "      <th>Mystery</th>\n",
       "      <th>Romance</th>\n",
       "      <th>Science Fiction</th>\n",
       "      <th>Thriller</th>\n",
       "      <th>War</th>\n",
       "      <th>Western</th>\n",
       "      <th>rating</th>\n",
       "      <th>ratingClass</th>\n",
       "      <th>month1</th>\n",
       "      <th>month2</th>\n",
       "    </tr>\n",
       "  </thead>\n",
       "  <tbody>\n",
       "    <tr>\n",
       "      <th>0</th>\n",
       "      <td>0.761342</td>\n",
       "      <td>8</td>\n",
       "      <td>tt0101272</td>\n",
       "      <td>0.151987</td>\n",
       "      <td>-0.309555</td>\n",
       "      <td>-2.307692e-01</td>\n",
       "      <td>-1.0</td>\n",
       "      <td>0</td>\n",
       "      <td>0</td>\n",
       "      <td>0</td>\n",
       "      <td>...</td>\n",
       "      <td>0</td>\n",
       "      <td>0</td>\n",
       "      <td>0</td>\n",
       "      <td>0</td>\n",
       "      <td>0</td>\n",
       "      <td>0</td>\n",
       "      <td>0.7</td>\n",
       "      <td>6</td>\n",
       "      <td>-0.500000</td>\n",
       "      <td>0.866025</td>\n",
       "    </tr>\n",
       "    <tr>\n",
       "      <th>1</th>\n",
       "      <td>0.642307</td>\n",
       "      <td>8</td>\n",
       "      <td>tt0101393</td>\n",
       "      <td>0.800524</td>\n",
       "      <td>0.211361</td>\n",
       "      <td>-6.153846e-01</td>\n",
       "      <td>-1.0</td>\n",
       "      <td>1</td>\n",
       "      <td>0</td>\n",
       "      <td>0</td>\n",
       "      <td>...</td>\n",
       "      <td>1</td>\n",
       "      <td>0</td>\n",
       "      <td>0</td>\n",
       "      <td>1</td>\n",
       "      <td>0</td>\n",
       "      <td>0</td>\n",
       "      <td>0.7</td>\n",
       "      <td>6</td>\n",
       "      <td>0.500000</td>\n",
       "      <td>-0.866025</td>\n",
       "    </tr>\n",
       "    <tr>\n",
       "      <th>2</th>\n",
       "      <td>-1.028794</td>\n",
       "      <td>2</td>\n",
       "      <td>tt0101410</td>\n",
       "      <td>-0.700167</td>\n",
       "      <td>0.306794</td>\n",
       "      <td>-6.153846e-01</td>\n",
       "      <td>-1.0</td>\n",
       "      <td>0</td>\n",
       "      <td>0</td>\n",
       "      <td>0</td>\n",
       "      <td>...</td>\n",
       "      <td>0</td>\n",
       "      <td>0</td>\n",
       "      <td>0</td>\n",
       "      <td>0</td>\n",
       "      <td>0</td>\n",
       "      <td>0</td>\n",
       "      <td>0.8</td>\n",
       "      <td>7</td>\n",
       "      <td>-0.866025</td>\n",
       "      <td>-0.500000</td>\n",
       "    </tr>\n",
       "    <tr>\n",
       "      <th>3</th>\n",
       "      <td>1.114533</td>\n",
       "      <td>9</td>\n",
       "      <td>tt0101414</td>\n",
       "      <td>0.022942</td>\n",
       "      <td>0.515804</td>\n",
       "      <td>2.220446e-16</td>\n",
       "      <td>-1.0</td>\n",
       "      <td>0</td>\n",
       "      <td>0</td>\n",
       "      <td>1</td>\n",
       "      <td>...</td>\n",
       "      <td>0</td>\n",
       "      <td>1</td>\n",
       "      <td>0</td>\n",
       "      <td>0</td>\n",
       "      <td>0</td>\n",
       "      <td>0</td>\n",
       "      <td>0.8</td>\n",
       "      <td>8</td>\n",
       "      <td>-0.500000</td>\n",
       "      <td>0.866025</td>\n",
       "    </tr>\n",
       "    <tr>\n",
       "      <th>4</th>\n",
       "      <td>0.134892</td>\n",
       "      <td>5</td>\n",
       "      <td>tt0101507</td>\n",
       "      <td>-0.930496</td>\n",
       "      <td>-0.137823</td>\n",
       "      <td>-6.153846e-01</td>\n",
       "      <td>-1.0</td>\n",
       "      <td>0</td>\n",
       "      <td>0</td>\n",
       "      <td>0</td>\n",
       "      <td>...</td>\n",
       "      <td>0</td>\n",
       "      <td>0</td>\n",
       "      <td>0</td>\n",
       "      <td>0</td>\n",
       "      <td>0</td>\n",
       "      <td>0</td>\n",
       "      <td>0.8</td>\n",
       "      <td>7</td>\n",
       "      <td>-0.500000</td>\n",
       "      <td>-0.866025</td>\n",
       "    </tr>\n",
       "  </tbody>\n",
       "</table>\n",
       "<p>5 rows × 29 columns</p>\n",
       "</div>"
      ],
      "text/plain": [
       "    revenue  class         id    budget  starpower  certification  year  \\\n",
       "0  0.761342      8  tt0101272  0.151987  -0.309555  -2.307692e-01  -1.0   \n",
       "1  0.642307      8  tt0101393  0.800524   0.211361  -6.153846e-01  -1.0   \n",
       "2 -1.028794      2  tt0101410 -0.700167   0.306794  -6.153846e-01  -1.0   \n",
       "3  1.114533      9  tt0101414  0.022942   0.515804   2.220446e-16  -1.0   \n",
       "4  0.134892      5  tt0101507 -0.930496  -0.137823  -6.153846e-01  -1.0   \n",
       "\n",
       "   Action  Adventure  Animation    ...     Mystery  Romance  Science Fiction  \\\n",
       "0       0          0          0    ...           0        0                0   \n",
       "1       1          0          0    ...           1        0                0   \n",
       "2       0          0          0    ...           0        0                0   \n",
       "3       0          0          1    ...           0        1                0   \n",
       "4       0          0          0    ...           0        0                0   \n",
       "\n",
       "   Thriller  War  Western  rating  ratingClass    month1    month2  \n",
       "0         0    0        0     0.7            6 -0.500000  0.866025  \n",
       "1         1    0        0     0.7            6  0.500000 -0.866025  \n",
       "2         0    0        0     0.8            7 -0.866025 -0.500000  \n",
       "3         0    0        0     0.8            8 -0.500000  0.866025  \n",
       "4         0    0        0     0.8            7 -0.500000 -0.866025  \n",
       "\n",
       "[5 rows x 29 columns]"
      ]
     },
     "execution_count": 4,
     "metadata": {},
     "output_type": "execute_result"
    }
   ],
   "source": [
    "movie_data.head()"
   ]
  },
  {
   "cell_type": "code",
   "execution_count": 5,
   "metadata": {},
   "outputs": [
    {
     "data": {
      "text/plain": [
       "Index(['revenue', 'class', 'id', 'budget', 'starpower', 'certification',\n",
       "       'year', 'Action', 'Adventure', 'Animation', 'Comedy', 'Crime',\n",
       "       'Documentary', 'Drama', 'Family', 'Fantasy', 'History', 'Horror',\n",
       "       'Music', 'Mystery', 'Romance', 'Science Fiction', 'Thriller', 'War',\n",
       "       'Western', 'rating', 'ratingClass', 'month1', 'month2'],\n",
       "      dtype='object')"
      ]
     },
     "execution_count": 5,
     "metadata": {},
     "output_type": "execute_result"
    }
   ],
   "source": [
    "movie_data.columns"
   ]
  },
  {
   "cell_type": "code",
   "execution_count": 6,
   "metadata": {},
   "outputs": [],
   "source": [
    "movie_X = movie_data[['budget', 'starpower', 'certification',\n",
    "       'year', 'Action', 'Adventure', 'Animation', 'Comedy', 'Crime',\n",
    "       'Documentary', 'Drama', 'Family', 'Fantasy', 'History', 'Horror',\n",
    "       'Music', 'Mystery', 'Romance', 'Science Fiction', 'Thriller', 'War',\n",
    "       'Western', 'month1', 'month2']]\n",
    "y = movie_data['ratingClass']"
   ]
  },
  {
   "cell_type": "code",
   "execution_count": 7,
   "metadata": {},
   "outputs": [],
   "source": [
    "new_y = []\n",
    "for index in range(len(y)):\n",
    "    new_y.append([0] * 10)\n",
    "    new_y[-1][y[index]] = 1\n",
    "new_y = np.array(new_y).reshape(-1, 10)"
   ]
  },
  {
   "cell_type": "code",
   "execution_count": 8,
   "metadata": {},
   "outputs": [
    {
     "data": {
      "text/html": [
       "<div>\n",
       "<style scoped>\n",
       "    .dataframe tbody tr th:only-of-type {\n",
       "        vertical-align: middle;\n",
       "    }\n",
       "\n",
       "    .dataframe tbody tr th {\n",
       "        vertical-align: top;\n",
       "    }\n",
       "\n",
       "    .dataframe thead th {\n",
       "        text-align: right;\n",
       "    }\n",
       "</style>\n",
       "<table border=\"1\" class=\"dataframe\">\n",
       "  <thead>\n",
       "    <tr style=\"text-align: right;\">\n",
       "      <th></th>\n",
       "      <th>id</th>\n",
       "      <th>ABNegative</th>\n",
       "      <th>ABirthdayNotABreak</th>\n",
       "      <th>ABloodyMess</th>\n",
       "      <th>ABoyAGirlAndABabyFamily</th>\n",
       "      <th>ABoyAndHisX</th>\n",
       "      <th>ACappella</th>\n",
       "      <th>AChatWithSatan</th>\n",
       "      <th>AChildShallLeadThem</th>\n",
       "      <th>ACupAngst</th>\n",
       "      <th>...</th>\n",
       "      <th>ZombiePukeAttack</th>\n",
       "      <th>Zoom</th>\n",
       "      <th>ptitle27osktao4y3f</th>\n",
       "      <th>ptitle5f8le58t</th>\n",
       "      <th>ptitlei70v550i</th>\n",
       "      <th>ptitleke2fhm29</th>\n",
       "      <th>ptitlel9hiod7i</th>\n",
       "      <th>ptitlews9vjxau4x1j</th>\n",
       "      <th>ptitlex50era43</th>\n",
       "      <th>ptitlezt06x76c</th>\n",
       "    </tr>\n",
       "  </thead>\n",
       "  <tbody>\n",
       "    <tr>\n",
       "      <th>1400</th>\n",
       "      <td>tt0101272</td>\n",
       "      <td>0</td>\n",
       "      <td>0</td>\n",
       "      <td>0</td>\n",
       "      <td>1</td>\n",
       "      <td>0</td>\n",
       "      <td>0</td>\n",
       "      <td>0</td>\n",
       "      <td>0</td>\n",
       "      <td>0</td>\n",
       "      <td>...</td>\n",
       "      <td>0</td>\n",
       "      <td>0</td>\n",
       "      <td>0</td>\n",
       "      <td>0</td>\n",
       "      <td>0</td>\n",
       "      <td>0</td>\n",
       "      <td>0</td>\n",
       "      <td>0</td>\n",
       "      <td>0</td>\n",
       "      <td>0</td>\n",
       "    </tr>\n",
       "    <tr>\n",
       "      <th>148</th>\n",
       "      <td>tt0101393</td>\n",
       "      <td>0</td>\n",
       "      <td>0</td>\n",
       "      <td>0</td>\n",
       "      <td>0</td>\n",
       "      <td>0</td>\n",
       "      <td>0</td>\n",
       "      <td>0</td>\n",
       "      <td>0</td>\n",
       "      <td>0</td>\n",
       "      <td>...</td>\n",
       "      <td>0</td>\n",
       "      <td>0</td>\n",
       "      <td>0</td>\n",
       "      <td>0</td>\n",
       "      <td>0</td>\n",
       "      <td>0</td>\n",
       "      <td>0</td>\n",
       "      <td>0</td>\n",
       "      <td>0</td>\n",
       "      <td>0</td>\n",
       "    </tr>\n",
       "    <tr>\n",
       "      <th>164</th>\n",
       "      <td>tt0101410</td>\n",
       "      <td>0</td>\n",
       "      <td>0</td>\n",
       "      <td>0</td>\n",
       "      <td>0</td>\n",
       "      <td>0</td>\n",
       "      <td>0</td>\n",
       "      <td>0</td>\n",
       "      <td>0</td>\n",
       "      <td>0</td>\n",
       "      <td>...</td>\n",
       "      <td>0</td>\n",
       "      <td>0</td>\n",
       "      <td>0</td>\n",
       "      <td>0</td>\n",
       "      <td>0</td>\n",
       "      <td>0</td>\n",
       "      <td>0</td>\n",
       "      <td>0</td>\n",
       "      <td>0</td>\n",
       "      <td>0</td>\n",
       "    </tr>\n",
       "    <tr>\n",
       "      <th>178</th>\n",
       "      <td>tt0101414</td>\n",
       "      <td>0</td>\n",
       "      <td>0</td>\n",
       "      <td>0</td>\n",
       "      <td>0</td>\n",
       "      <td>0</td>\n",
       "      <td>0</td>\n",
       "      <td>0</td>\n",
       "      <td>0</td>\n",
       "      <td>0</td>\n",
       "      <td>...</td>\n",
       "      <td>0</td>\n",
       "      <td>0</td>\n",
       "      <td>0</td>\n",
       "      <td>0</td>\n",
       "      <td>0</td>\n",
       "      <td>0</td>\n",
       "      <td>0</td>\n",
       "      <td>0</td>\n",
       "      <td>0</td>\n",
       "      <td>0</td>\n",
       "    </tr>\n",
       "    <tr>\n",
       "      <th>232</th>\n",
       "      <td>tt0101507</td>\n",
       "      <td>0</td>\n",
       "      <td>0</td>\n",
       "      <td>0</td>\n",
       "      <td>0</td>\n",
       "      <td>0</td>\n",
       "      <td>0</td>\n",
       "      <td>0</td>\n",
       "      <td>0</td>\n",
       "      <td>0</td>\n",
       "      <td>...</td>\n",
       "      <td>0</td>\n",
       "      <td>0</td>\n",
       "      <td>0</td>\n",
       "      <td>0</td>\n",
       "      <td>0</td>\n",
       "      <td>0</td>\n",
       "      <td>0</td>\n",
       "      <td>0</td>\n",
       "      <td>0</td>\n",
       "      <td>0</td>\n",
       "    </tr>\n",
       "  </tbody>\n",
       "</table>\n",
       "<p>5 rows × 20892 columns</p>\n",
       "</div>"
      ],
      "text/plain": [
       "             id  ABNegative  ABirthdayNotABreak  ABloodyMess  \\\n",
       "1400  tt0101272           0                   0            0   \n",
       "148   tt0101393           0                   0            0   \n",
       "164   tt0101410           0                   0            0   \n",
       "178   tt0101414           0                   0            0   \n",
       "232   tt0101507           0                   0            0   \n",
       "\n",
       "      ABoyAGirlAndABabyFamily  ABoyAndHisX  ACappella  AChatWithSatan  \\\n",
       "1400                        1            0          0               0   \n",
       "148                         0            0          0               0   \n",
       "164                         0            0          0               0   \n",
       "178                         0            0          0               0   \n",
       "232                         0            0          0               0   \n",
       "\n",
       "      AChildShallLeadThem  ACupAngst       ...        ZombiePukeAttack  Zoom  \\\n",
       "1400                    0          0       ...                       0     0   \n",
       "148                     0          0       ...                       0     0   \n",
       "164                     0          0       ...                       0     0   \n",
       "178                     0          0       ...                       0     0   \n",
       "232                     0          0       ...                       0     0   \n",
       "\n",
       "      ptitle27osktao4y3f  ptitle5f8le58t  ptitlei70v550i  ptitleke2fhm29  \\\n",
       "1400                   0               0               0               0   \n",
       "148                    0               0               0               0   \n",
       "164                    0               0               0               0   \n",
       "178                    0               0               0               0   \n",
       "232                    0               0               0               0   \n",
       "\n",
       "      ptitlel9hiod7i  ptitlews9vjxau4x1j  ptitlex50era43  ptitlezt06x76c  \n",
       "1400               0                   0               0               0  \n",
       "148                0                   0               0               0  \n",
       "164                0                   0               0               0  \n",
       "178                0                   0               0               0  \n",
       "232                0                   0               0               0  \n",
       "\n",
       "[5 rows x 20892 columns]"
      ]
     },
     "execution_count": 8,
     "metadata": {},
     "output_type": "execute_result"
    }
   ],
   "source": [
    "trope_data.head()"
   ]
  },
  {
   "cell_type": "code",
   "execution_count": 9,
   "metadata": {},
   "outputs": [],
   "source": [
    "trope_X = trope_data.drop('id', axis=1)"
   ]
  },
  {
   "cell_type": "markdown",
   "metadata": {},
   "source": [
    "## Neural Networks results using both trope and movie data"
   ]
  },
  {
   "cell_type": "code",
   "execution_count": 10,
   "metadata": {},
   "outputs": [],
   "source": [
    "dropout = 0.5\n",
    "\n",
    "movie_dense_size = 20\n",
    "\n",
    "trope_dense_size = 5\n",
    "trope_output_size = 1\n",
    "\n",
    "model_dense_size = 10\n",
    "model_output_size = 10"
   ]
  },
  {
   "cell_type": "code",
   "execution_count": 11,
   "metadata": {},
   "outputs": [],
   "source": [
    "movie_input = keras.layers.Input((movie_X.shape[1],))\n",
    "m = keras.layers.Dense(movie_dense_size, activation='relu')(movie_input)\n",
    "movie_output = keras.layers.Dropout(dropout)(m)"
   ]
  },
  {
   "cell_type": "code",
   "execution_count": 12,
   "metadata": {},
   "outputs": [],
   "source": [
    "trope_input = keras.layers.Input((trope_X.shape[1],))\n",
    "t = keras.layers.Dense(trope_dense_size, activation='relu')(trope_input)\n",
    "t = keras.layers.Dropout(dropout)(t)\n",
    "t = keras.layers.Dense(trope_dense_size, activation='relu')(trope_input)\n",
    "t = keras.layers.Dropout(dropout)(t)\n",
    "t = keras.layers.Dense(trope_output_size, activation='relu')(t)\n",
    "trope_output = keras.layers.Dropout(dropout)(t)"
   ]
  },
  {
   "cell_type": "code",
   "execution_count": 13,
   "metadata": {},
   "outputs": [],
   "source": [
    "model_input = keras.layers.concatenate([movie_input, trope_output])\n",
    "l = keras.layers.Dense(model_dense_size, activation='relu')(model_input)\n",
    "l = keras.layers.Dropout(dropout)(l)\n",
    "l = keras.layers.Dense(model_dense_size, activation='relu')(model_input)\n",
    "l = keras.layers.Dropout(dropout)(l)\n",
    "model_output = keras.layers.Dense(model_output_size, activation='softmax')(l)\n",
    "\n",
    "model = keras.models.Model(inputs=[movie_input, trope_input], outputs=(model_output))\n",
    "model.compile(optimizer='adam',\n",
    "              loss='categorical_crossentropy',\n",
    "              metrics=['acc'])"
   ]
  },
  {
   "cell_type": "code",
   "execution_count": 14,
   "metadata": {},
   "outputs": [],
   "source": [
    "history = model.fit(x=[movie_X, trope_X],\n",
    "          y=new_y,\n",
    "          validation_split=0.2,\n",
    "          epochs=200,\n",
    "          batch_size=128,\n",
    "          verbose=0)"
   ]
  },
  {
   "cell_type": "code",
   "execution_count": 15,
   "metadata": {},
   "outputs": [
    {
     "name": "stdout",
     "output_type": "stream",
     "text": [
      "Best Result: 0.4847715742091842, epoch: 129\n"
     ]
    },
    {
     "data": {
      "image/png": "[encoded data removed]",
      "text/plain": [
       "<Figure size 432x288 with 1 Axes>"
      ]
     },
     "metadata": {
      "needs_background": "light"
     },
     "output_type": "display_data"
    }
   ],
   "source": [
    "best_acc = max(history.history['val_acc'])\n",
    "best_epoch = history.history['val_acc'].index(best_acc)\n",
    "print(\"Best Result: {}, epoch: {}\".format(best_acc, best_epoch))\n",
    "\n",
    "plt.plot(history.history['acc'])\n",
    "plt.plot(history.history['val_acc'])\n",
    "plt.xlabel('Epochs')\n",
    "plt.ylabel('Accuracy')\n",
    "plt.legend(['Accuracy', 'Validation Accuracy'])\n",
    "plt.show()"
   ]
  },
  {
   "cell_type": "markdown",
   "metadata": {},
   "source": [
    "## Neural networks using only movie data"
   ]
  },
  {
   "cell_type": "code",
   "execution_count": 16,
   "metadata": {},
   "outputs": [],
   "source": [
    "#model_input = keras.layers.concatenate([movie_input, trope_output])\n",
    "l = keras.layers.Dense(model_dense_size, activation='relu')(movie_input)\n",
    "l = keras.layers.Dropout(dropout)(l)\n",
    "l = keras.layers.Dense(model_dense_size, activation='relu')(movie_input)\n",
    "l = keras.layers.Dropout(dropout)(l)\n",
    "model_output = keras.layers.Dense(model_output_size, activation='softmax')(l)\n",
    "\n",
    "model = keras.models.Model(inputs=movie_input, outputs=model_output)\n",
    "model.compile(optimizer='adam',\n",
    "              loss='categorical_crossentropy',\n",
    "              metrics=['acc'])"
   ]
  },
  {
   "cell_type": "code",
   "execution_count": 17,
   "metadata": {},
   "outputs": [],
   "source": [
    "history = model.fit(x=movie_X,\n",
    "          y=new_y,\n",
    "          validation_split=0.2,\n",
    "          epochs=200,\n",
    "          batch_size=128,\n",
    "          verbose=0)"
   ]
  },
  {
   "cell_type": "code",
   "execution_count": 18,
   "metadata": {},
   "outputs": [
    {
     "name": "stdout",
     "output_type": "stream",
     "text": [
      "Best Result: 0.4923857874071538, epoch: 192\n"
     ]
    },
    {
     "data": {
      "image/png": "[encoded data removed]",
      "text/plain": [
       "<Figure size 432x288 with 1 Axes>"
      ]
     },
     "metadata": {
      "needs_background": "light"
     },
     "output_type": "display_data"
    }
   ],
   "source": [
    "best_acc = max(history.history['val_acc'])\n",
    "best_epoch = history.history['val_acc'].index(best_acc)\n",
    "print(\"Best Result: {}, epoch: {}\".format(best_acc, best_epoch))\n",
    "\n",
    "plt.plot(history.history['acc'])\n",
    "plt.plot(history.history['val_acc'])\n",
    "plt.xlabel('Epochs')\n",
    "plt.ylabel('Accuracy')\n",
    "plt.legend(['Accuracy', 'Validation Accuracy'])\n",
    "plt.show()"
   ]
  },
  {
   "cell_type": "code",
   "execution_count": null,
   "metadata": {},
   "outputs": [],
   "source": []
  },
  {
   "cell_type": "code",
   "execution_count": null,
   "metadata": {},
   "outputs": [],
   "source": []
  }
 ],
 "metadata": {
  "kernelspec": {
   "display_name": "Python 3",
   "language": "python",
   "name": "python3"
  },
  "language_info": {
   "codemirror_mode": {
    "name": "ipython",
    "version": 3
   },
   "file_extension": ".py",
   "mimetype": "text/x-python",
   "name": "python",
   "nbconvert_exporter": "python",
   "pygments_lexer": "ipython3",
   "version": "3.5.2"
  }
 },
 "nbformat": 4,
 "nbformat_minor": 2
}
