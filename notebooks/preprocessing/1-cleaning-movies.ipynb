{
 "cells": [
  {
   "cell_type": "code",
   "execution_count": 23,
   "metadata": {},
   "outputs": [],
   "source": [
    "import pandas as pd"
   ]
  },
  {
   "cell_type": "code",
   "execution_count": 24,
   "metadata": {},
   "outputs": [],
   "source": [
    "movie_data = pd.read_csv('../../data/raw/movie-data.csv')\n",
    "trope_data = pd.read_csv('../../data/raw/tropes-onehot.csv')\n",
    "\n",
    "# Setting the same name for id column for both dataframes\n",
    "trope_data = trope_data.rename(index=str, columns={'imdbid':'id'})"
   ]
  },
  {
   "cell_type": "code",
   "execution_count": 25,
   "metadata": {},
   "outputs": [
    {
     "name": "stdout",
     "output_type": "stream",
     "text": [
      "Qnt movies: 1969, Qnt Tropes: 6736\n"
     ]
    }
   ],
   "source": [
    "qnt_movies = len(movie_data)\n",
    "qnt_tropes = len(trope_data)\n",
    "\n",
    "print(\"Qnt movies: {}, Qnt Tropes: {}\".format(qnt_movies, qnt_tropes))"
   ]
  },
  {
   "cell_type": "code",
   "execution_count": 26,
   "metadata": {},
   "outputs": [
    {
     "data": {
      "text/html": [
       "<div>\n",
       "<style scoped>\n",
       "    .dataframe tbody tr th:only-of-type {\n",
       "        vertical-align: middle;\n",
       "    }\n",
       "\n",
       "    .dataframe tbody tr th {\n",
       "        vertical-align: top;\n",
       "    }\n",
       "\n",
       "    .dataframe thead th {\n",
       "        text-align: right;\n",
       "    }\n",
       "</style>\n",
       "<table border=\"1\" class=\"dataframe\">\n",
       "  <thead>\n",
       "    <tr style=\"text-align: right;\">\n",
       "      <th></th>\n",
       "      <th>revenue</th>\n",
       "      <th>class</th>\n",
       "      <th>id</th>\n",
       "      <th>budget</th>\n",
       "      <th>starpower</th>\n",
       "      <th>certification</th>\n",
       "      <th>year</th>\n",
       "      <th>month</th>\n",
       "      <th>Action</th>\n",
       "      <th>Adventure</th>\n",
       "      <th>...</th>\n",
       "      <th>Horror</th>\n",
       "      <th>Music</th>\n",
       "      <th>Mystery</th>\n",
       "      <th>Romance</th>\n",
       "      <th>Science Fiction</th>\n",
       "      <th>Thriller</th>\n",
       "      <th>War</th>\n",
       "      <th>Western</th>\n",
       "      <th>rating</th>\n",
       "      <th>ratingClass</th>\n",
       "    </tr>\n",
       "  </thead>\n",
       "  <tbody>\n",
       "    <tr>\n",
       "      <th>0</th>\n",
       "      <td>191502426</td>\n",
       "      <td>8</td>\n",
       "      <td>tt0101272</td>\n",
       "      <td>30000000</td>\n",
       "      <td>11000920558</td>\n",
       "      <td>11</td>\n",
       "      <td>1991</td>\n",
       "      <td>11</td>\n",
       "      <td>0</td>\n",
       "      <td>0</td>\n",
       "      <td>...</td>\n",
       "      <td>1</td>\n",
       "      <td>0</td>\n",
       "      <td>0</td>\n",
       "      <td>0</td>\n",
       "      <td>0</td>\n",
       "      <td>0</td>\n",
       "      <td>0</td>\n",
       "      <td>0</td>\n",
       "      <td>6.8</td>\n",
       "      <td>6</td>\n",
       "    </tr>\n",
       "    <tr>\n",
       "      <th>1</th>\n",
       "      <td>152368585</td>\n",
       "      <td>8</td>\n",
       "      <td>tt0101393</td>\n",
       "      <td>75000000</td>\n",
       "      <td>19781169355</td>\n",
       "      <td>6</td>\n",
       "      <td>1991</td>\n",
       "      <td>5</td>\n",
       "      <td>1</td>\n",
       "      <td>0</td>\n",
       "      <td>...</td>\n",
       "      <td>0</td>\n",
       "      <td>0</td>\n",
       "      <td>1</td>\n",
       "      <td>0</td>\n",
       "      <td>0</td>\n",
       "      <td>1</td>\n",
       "      <td>0</td>\n",
       "      <td>0</td>\n",
       "      <td>6.7</td>\n",
       "      <td>6</td>\n",
       "    </tr>\n",
       "    <tr>\n",
       "      <th>2</th>\n",
       "      <td>6153939</td>\n",
       "      <td>2</td>\n",
       "      <td>tt0101410</td>\n",
       "      <td>9000000</td>\n",
       "      <td>22026008332</td>\n",
       "      <td>6</td>\n",
       "      <td>1991</td>\n",
       "      <td>8</td>\n",
       "      <td>0</td>\n",
       "      <td>0</td>\n",
       "      <td>...</td>\n",
       "      <td>0</td>\n",
       "      <td>0</td>\n",
       "      <td>0</td>\n",
       "      <td>0</td>\n",
       "      <td>0</td>\n",
       "      <td>0</td>\n",
       "      <td>0</td>\n",
       "      <td>0</td>\n",
       "      <td>7.7</td>\n",
       "      <td>7</td>\n",
       "    </tr>\n",
       "    <tr>\n",
       "      <th>3</th>\n",
       "      <td>377350553</td>\n",
       "      <td>9</td>\n",
       "      <td>tt0101414</td>\n",
       "      <td>25000000</td>\n",
       "      <td>27872758981</td>\n",
       "      <td>14</td>\n",
       "      <td>1991</td>\n",
       "      <td>11</td>\n",
       "      <td>0</td>\n",
       "      <td>0</td>\n",
       "      <td>...</td>\n",
       "      <td>0</td>\n",
       "      <td>1</td>\n",
       "      <td>0</td>\n",
       "      <td>1</td>\n",
       "      <td>0</td>\n",
       "      <td>0</td>\n",
       "      <td>0</td>\n",
       "      <td>0</td>\n",
       "      <td>8.0</td>\n",
       "      <td>8</td>\n",
       "    </tr>\n",
       "    <tr>\n",
       "      <th>4</th>\n",
       "      <td>57504069</td>\n",
       "      <td>5</td>\n",
       "      <td>tt0101507</td>\n",
       "      <td>6500000</td>\n",
       "      <td>13348646490</td>\n",
       "      <td>6</td>\n",
       "      <td>1991</td>\n",
       "      <td>7</td>\n",
       "      <td>0</td>\n",
       "      <td>0</td>\n",
       "      <td>...</td>\n",
       "      <td>0</td>\n",
       "      <td>0</td>\n",
       "      <td>0</td>\n",
       "      <td>0</td>\n",
       "      <td>0</td>\n",
       "      <td>0</td>\n",
       "      <td>0</td>\n",
       "      <td>0</td>\n",
       "      <td>7.8</td>\n",
       "      <td>7</td>\n",
       "    </tr>\n",
       "  </tbody>\n",
       "</table>\n",
       "<p>5 rows × 28 columns</p>\n",
       "</div>"
      ],
      "text/plain": [
       "     revenue  class         id    budget    starpower  certification  year  \\\n",
       "0  191502426      8  tt0101272  30000000  11000920558             11  1991   \n",
       "1  152368585      8  tt0101393  75000000  19781169355              6  1991   \n",
       "2    6153939      2  tt0101410   9000000  22026008332              6  1991   \n",
       "3  377350553      9  tt0101414  25000000  27872758981             14  1991   \n",
       "4   57504069      5  tt0101507   6500000  13348646490              6  1991   \n",
       "\n",
       "   month  Action  Adventure  ...  Horror  Music  Mystery  Romance  \\\n",
       "0     11       0          0  ...       1      0        0        0   \n",
       "1      5       1          0  ...       0      0        1        0   \n",
       "2      8       0          0  ...       0      0        0        0   \n",
       "3     11       0          0  ...       0      1        0        1   \n",
       "4      7       0          0  ...       0      0        0        0   \n",
       "\n",
       "   Science Fiction  Thriller  War  Western  rating  ratingClass  \n",
       "0                0         0    0        0     6.8            6  \n",
       "1                0         1    0        0     6.7            6  \n",
       "2                0         0    0        0     7.7            7  \n",
       "3                0         0    0        0     8.0            8  \n",
       "4                0         0    0        0     7.8            7  \n",
       "\n",
       "[5 rows x 28 columns]"
      ]
     },
     "execution_count": 26,
     "metadata": {},
     "output_type": "execute_result"
    }
   ],
   "source": [
    "movie_data.head()"
   ]
  },
  {
   "cell_type": "code",
   "execution_count": 27,
   "metadata": {},
   "outputs": [],
   "source": [
    "final_data = pd.merge(movie_data,\n",
    "                      tropes_data,\n",
    "                      on='id')"
   ]
  },
  {
   "cell_type": "code",
   "execution_count": 28,
   "metadata": {},
   "outputs": [],
   "source": [
    "filtered_movie_data = movie_data[movie_data['id'].isin(final_data['id'])]\n",
    "filtered_trope_data = trope_data[trope_data['id'].isin(final_data['id'])]"
   ]
  },
  {
   "cell_type": "code",
   "execution_count": 29,
   "metadata": {},
   "outputs": [
    {
     "name": "stdout",
     "output_type": "stream",
     "text": [
      "Quantidade de filmes: 1969, Quantidade de Tropes: 1969\n"
     ]
    }
   ],
   "source": [
    "qnt_movies = len(filtered_movie_data)\n",
    "qnt_tropes = len(filtered_trope_data)\n",
    "\n",
    "print(\"Quantidade de filmes: {}, Quantidade de Tropes: {}\".format(qnt_movies, qnt_tropes))"
   ]
  },
  {
   "cell_type": "code",
   "execution_count": 30,
   "metadata": {},
   "outputs": [],
   "source": [
    "filtered_movie_data.to_csv('../../data/interim/movie-data.csv', index=False)\n",
    "filtered_trope_data.to_csv('../../data/processed/trope-data.csv', index=False)"
   ]
  },
  {
   "cell_type": "code",
   "execution_count": null,
   "metadata": {},
   "outputs": [],
   "source": []
  }
 ],
 "metadata": {
  "kernelspec": {
   "display_name": "Python 3",
   "language": "python",
   "name": "python3"
  },
  "language_info": {
   "codemirror_mode": {
    "name": "ipython",
    "version": 3
   },
   "file_extension": ".py",
   "mimetype": "text/x-python",
   "name": "python",
   "nbconvert_exporter": "python",
   "pygments_lexer": "ipython3",
   "version": "3.7.2"
  }
 },
 "nbformat": 4,
 "nbformat_minor": 2
}
