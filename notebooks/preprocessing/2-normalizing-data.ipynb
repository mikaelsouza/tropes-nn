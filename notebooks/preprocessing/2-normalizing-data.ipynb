{
 "cells": [
  {
   "cell_type": "code",
   "execution_count": 1,
   "metadata": {},
   "outputs": [],
   "source": [
    "import pandas as pd\n",
    "import seaborn as sns\n",
    "import numpy as np\n",
    "import sklearn.preprocessing as pre\n",
    "import matplotlib.pyplot as plt\n",
    "import math"
   ]
  },
  {
   "cell_type": "code",
   "execution_count": 2,
   "metadata": {},
   "outputs": [
    {
     "data": {
      "text/html": [
       "<div>\n",
       "<style scoped>\n",
       "    .dataframe tbody tr th:only-of-type {\n",
       "        vertical-align: middle;\n",
       "    }\n",
       "\n",
       "    .dataframe tbody tr th {\n",
       "        vertical-align: top;\n",
       "    }\n",
       "\n",
       "    .dataframe thead th {\n",
       "        text-align: right;\n",
       "    }\n",
       "</style>\n",
       "<table border=\"1\" class=\"dataframe\">\n",
       "  <thead>\n",
       "    <tr style=\"text-align: right;\">\n",
       "      <th></th>\n",
       "      <th>revenue</th>\n",
       "      <th>class</th>\n",
       "      <th>id</th>\n",
       "      <th>budget</th>\n",
       "      <th>starpower</th>\n",
       "      <th>certification</th>\n",
       "      <th>year</th>\n",
       "      <th>month</th>\n",
       "      <th>Action</th>\n",
       "      <th>Adventure</th>\n",
       "      <th>...</th>\n",
       "      <th>Horror</th>\n",
       "      <th>Music</th>\n",
       "      <th>Mystery</th>\n",
       "      <th>Romance</th>\n",
       "      <th>Science Fiction</th>\n",
       "      <th>Thriller</th>\n",
       "      <th>War</th>\n",
       "      <th>Western</th>\n",
       "      <th>rating</th>\n",
       "      <th>ratingClass</th>\n",
       "    </tr>\n",
       "  </thead>\n",
       "  <tbody>\n",
       "    <tr>\n",
       "      <th>0</th>\n",
       "      <td>191502426</td>\n",
       "      <td>8</td>\n",
       "      <td>tt0101272</td>\n",
       "      <td>30000000</td>\n",
       "      <td>11000920558</td>\n",
       "      <td>11</td>\n",
       "      <td>1991</td>\n",
       "      <td>11</td>\n",
       "      <td>0</td>\n",
       "      <td>0</td>\n",
       "      <td>...</td>\n",
       "      <td>1</td>\n",
       "      <td>0</td>\n",
       "      <td>0</td>\n",
       "      <td>0</td>\n",
       "      <td>0</td>\n",
       "      <td>0</td>\n",
       "      <td>0</td>\n",
       "      <td>0</td>\n",
       "      <td>6.8</td>\n",
       "      <td>6</td>\n",
       "    </tr>\n",
       "    <tr>\n",
       "      <th>1</th>\n",
       "      <td>152368585</td>\n",
       "      <td>8</td>\n",
       "      <td>tt0101393</td>\n",
       "      <td>75000000</td>\n",
       "      <td>19781169355</td>\n",
       "      <td>6</td>\n",
       "      <td>1991</td>\n",
       "      <td>5</td>\n",
       "      <td>1</td>\n",
       "      <td>0</td>\n",
       "      <td>...</td>\n",
       "      <td>0</td>\n",
       "      <td>0</td>\n",
       "      <td>1</td>\n",
       "      <td>0</td>\n",
       "      <td>0</td>\n",
       "      <td>1</td>\n",
       "      <td>0</td>\n",
       "      <td>0</td>\n",
       "      <td>6.7</td>\n",
       "      <td>6</td>\n",
       "    </tr>\n",
       "    <tr>\n",
       "      <th>2</th>\n",
       "      <td>6153939</td>\n",
       "      <td>2</td>\n",
       "      <td>tt0101410</td>\n",
       "      <td>9000000</td>\n",
       "      <td>22026008332</td>\n",
       "      <td>6</td>\n",
       "      <td>1991</td>\n",
       "      <td>8</td>\n",
       "      <td>0</td>\n",
       "      <td>0</td>\n",
       "      <td>...</td>\n",
       "      <td>0</td>\n",
       "      <td>0</td>\n",
       "      <td>0</td>\n",
       "      <td>0</td>\n",
       "      <td>0</td>\n",
       "      <td>0</td>\n",
       "      <td>0</td>\n",
       "      <td>0</td>\n",
       "      <td>7.7</td>\n",
       "      <td>7</td>\n",
       "    </tr>\n",
       "    <tr>\n",
       "      <th>3</th>\n",
       "      <td>377350553</td>\n",
       "      <td>9</td>\n",
       "      <td>tt0101414</td>\n",
       "      <td>25000000</td>\n",
       "      <td>27872758981</td>\n",
       "      <td>14</td>\n",
       "      <td>1991</td>\n",
       "      <td>11</td>\n",
       "      <td>0</td>\n",
       "      <td>0</td>\n",
       "      <td>...</td>\n",
       "      <td>0</td>\n",
       "      <td>1</td>\n",
       "      <td>0</td>\n",
       "      <td>1</td>\n",
       "      <td>0</td>\n",
       "      <td>0</td>\n",
       "      <td>0</td>\n",
       "      <td>0</td>\n",
       "      <td>8.0</td>\n",
       "      <td>8</td>\n",
       "    </tr>\n",
       "    <tr>\n",
       "      <th>4</th>\n",
       "      <td>57504069</td>\n",
       "      <td>5</td>\n",
       "      <td>tt0101507</td>\n",
       "      <td>6500000</td>\n",
       "      <td>13348646490</td>\n",
       "      <td>6</td>\n",
       "      <td>1991</td>\n",
       "      <td>7</td>\n",
       "      <td>0</td>\n",
       "      <td>0</td>\n",
       "      <td>...</td>\n",
       "      <td>0</td>\n",
       "      <td>0</td>\n",
       "      <td>0</td>\n",
       "      <td>0</td>\n",
       "      <td>0</td>\n",
       "      <td>0</td>\n",
       "      <td>0</td>\n",
       "      <td>0</td>\n",
       "      <td>7.8</td>\n",
       "      <td>7</td>\n",
       "    </tr>\n",
       "  </tbody>\n",
       "</table>\n",
       "<p>5 rows × 28 columns</p>\n",
       "</div>"
      ],
      "text/plain": [
       "     revenue  class         id    budget    starpower  certification  year  \\\n",
       "0  191502426      8  tt0101272  30000000  11000920558             11  1991   \n",
       "1  152368585      8  tt0101393  75000000  19781169355              6  1991   \n",
       "2    6153939      2  tt0101410   9000000  22026008332              6  1991   \n",
       "3  377350553      9  tt0101414  25000000  27872758981             14  1991   \n",
       "4   57504069      5  tt0101507   6500000  13348646490              6  1991   \n",
       "\n",
       "   month  Action  Adventure  ...  Horror  Music  Mystery  Romance  \\\n",
       "0     11       0          0  ...       1      0        0        0   \n",
       "1      5       1          0  ...       0      0        1        0   \n",
       "2      8       0          0  ...       0      0        0        0   \n",
       "3     11       0          0  ...       0      1        0        1   \n",
       "4      7       0          0  ...       0      0        0        0   \n",
       "\n",
       "   Science Fiction  Thriller  War  Western  rating  ratingClass  \n",
       "0                0         0    0        0     6.8            6  \n",
       "1                0         1    0        0     6.7            6  \n",
       "2                0         0    0        0     7.7            7  \n",
       "3                0         0    0        0     8.0            8  \n",
       "4                0         0    0        0     7.8            7  \n",
       "\n",
       "[5 rows x 28 columns]"
      ]
     },
     "execution_count": 2,
     "metadata": {},
     "output_type": "execute_result"
    }
   ],
   "source": [
    "movie_data = pd.read_csv(\"../../data/interim/movie-data.csv\")\n",
    "movie_data.head()"
   ]
  },
  {
   "cell_type": "code",
   "execution_count": 3,
   "metadata": {},
   "outputs": [],
   "source": [
    "norm_data = movie_data.copy()"
   ]
  },
  {
   "cell_type": "code",
   "execution_count": 4,
   "metadata": {},
   "outputs": [],
   "source": [
    "# Applying log transformation and standard scaling\n",
    "\n",
    "log_std_columns = ['revenue', 'starpower', 'budget']\n",
    "\n",
    "def log(data):\n",
    "    return data.map(lambda x: np.log(x + 1))\n",
    "\n",
    "def std(data):\n",
    "    return pre.StandardScaler().fit_transform(np.array(data).reshape(-1, 1))\n",
    "\n",
    "for column in log_std_columns:\n",
    "    norm_data[column] = log(norm_data[column])\n",
    "    norm_data[column] = std(norm_data[column])"
   ]
  },
  {
   "cell_type": "code",
   "execution_count": 5,
   "metadata": {},
   "outputs": [
    {
     "name": "stderr",
     "output_type": "stream",
     "text": [
      "/Users/mikael/.envs/datascience/lib/python3.7/site-packages/sklearn/utils/validation.py:595: DataConversionWarning: Data with input dtype int64 was converted to float64 by MinMaxScaler.\n",
      "  warnings.warn(msg, DataConversionWarning)\n",
      "/Users/mikael/.envs/datascience/lib/python3.7/site-packages/sklearn/utils/validation.py:595: DataConversionWarning: Data with input dtype int64 was converted to float64 by MinMaxScaler.\n",
      "  warnings.warn(msg, DataConversionWarning)\n"
     ]
    }
   ],
   "source": [
    "# Applying MinMax transform\n",
    "\n",
    "min_max_columns = ['year', 'certification']\n",
    "\n",
    "def minmax(data):\n",
    "    return pre.MinMaxScaler(feature_range=(-1, 1)).fit_transform(np.array(data).reshape(-1, 1))\n",
    "\n",
    "for column in min_max_columns:\n",
    "    norm_data[column] = minmax(norm_data[column])"
   ]
  },
  {
   "cell_type": "code",
   "execution_count": 6,
   "metadata": {},
   "outputs": [],
   "source": [
    "# Applying Cyclic Transformation\n",
    "\n",
    "norm_data['month1'] = norm_data['month'].map(lambda x: np.sin(x * 2 * math.pi / 12))\n",
    "norm_data['month2'] = norm_data['month'].map(lambda x: np.cos(x * 2 * math.pi / 12))"
   ]
  },
  {
   "cell_type": "code",
   "execution_count": 7,
   "metadata": {},
   "outputs": [],
   "source": [
    "# Normalizing rating\n",
    "\n",
    "norm_data['rating'] = round(norm_data['rating']) / 10"
   ]
  },
  {
   "cell_type": "code",
   "execution_count": 8,
   "metadata": {},
   "outputs": [],
   "source": [
    "# Removing ununsed columns\n",
    "\n",
    "norm_data = norm_data.drop('month', axis=1)"
   ]
  },
  {
   "cell_type": "code",
   "execution_count": 9,
   "metadata": {},
   "outputs": [
    {
     "data": {
      "text/plain": [
       "Index(['revenue', 'class', 'id', 'budget', 'starpower', 'certification',\n",
       "       'year', 'Action', 'Adventure', 'Animation', 'Comedy', 'Crime',\n",
       "       'Documentary', 'Drama', 'Family', 'Fantasy', 'History', 'Horror',\n",
       "       'Music', 'Mystery', 'Romance', 'Science Fiction', 'Thriller', 'War',\n",
       "       'Western', 'rating', 'ratingClass', 'month1', 'month2'],\n",
       "      dtype='object')"
      ]
     },
     "execution_count": 9,
     "metadata": {},
     "output_type": "execute_result"
    }
   ],
   "source": [
    "norm_data.columns"
   ]
  },
  {
   "cell_type": "code",
   "execution_count": 10,
   "metadata": {},
   "outputs": [],
   "source": [
    "norm_data.to_csv('../../data/processed/normalized-movie-data.csv', index=False)"
   ]
  },
  {
   "cell_type": "code",
   "execution_count": null,
   "metadata": {},
   "outputs": [],
   "source": []
  }
 ],
 "metadata": {
  "kernelspec": {
   "display_name": "Python 3",
   "language": "python",
   "name": "python3"
  },
  "language_info": {
   "codemirror_mode": {
    "name": "ipython",
    "version": 3
   },
   "file_extension": ".py",
   "mimetype": "text/x-python",
   "name": "python",
   "nbconvert_exporter": "python",
   "pygments_lexer": "ipython3",
   "version": "3.7.2"
  }
 },
 "nbformat": 4,
 "nbformat_minor": 2
}
